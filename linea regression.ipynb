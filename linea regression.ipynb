{
 "cells": [
  {
   "cell_type": "code",
   "execution_count": 10,
   "id": "6a2765c5-7ca6-4278-8afa-d73c81c2a6d1",
   "metadata": {},
   "outputs": [],
   "source": [
    "import pandas as pd\n",
    "\n",
    "data_frame=pd.read_csv(r\"C://Users//ASUS//Downloads//Learning-2025//dataset.csv\")\n",
    "\n",
    "\n",
    "X=data_frame.iloc[:,0].values\n",
    "Y=data_frame.iloc[:,1].values\n"
   ]
  },
  {
   "cell_type": "code",
   "execution_count": 11,
   "id": "a096e140-1f5c-4c38-a30a-6ed280cc4882",
   "metadata": {},
   "outputs": [],
   "source": [
    "import numpy as np\n",
    "import matplotlib.pyplot as plt"
   ]
  },
  {
   "cell_type": "code",
   "execution_count": 12,
   "id": "ce18fbba-2dd1-4974-9b13-bc86154b51f9",
   "metadata": {},
   "outputs": [],
   "source": [
    "from sklearn.model_selection import train_test_split\n",
    "X_train,X_test,Y_train,Y_test=train_test_split(X,Y,test_size=0.2)"
   ]
  },
  {
   "cell_type": "code",
   "execution_count": 13,
   "id": "269baf04-9cd6-41d4-aee8-9c198d90c366",
   "metadata": {},
   "outputs": [],
   "source": [
    "from sklearn.linear_model import LinearRegression\n",
    "reg=LinearRegression()\n",
    "X_train=X_train.reshape(-1,1)\n",
    "Y_train=Y_train.reshape(-1,1)\n",
    "\n",
    "#from sklearn import preprocessing\n",
    "#X_train = preprocessing.normalize(X_train,axis=0)\n",
    "#Y_train = preprocessing.normalize(Y_train,axis=0)\n",
    "\n",
    "model=reg.fit(X_train,Y_train)"
   ]
  },
  {
   "cell_type": "code",
   "execution_count": 14,
   "id": "b7d87062-84db-4daa-b1fc-3725b284ae48",
   "metadata": {
    "scrolled": true
   },
   "outputs": [
    {
     "name": "stdout",
     "output_type": "stream",
     "text": [
      "[-1180.48780488]\n",
      "[[6.95121951]]\n"
     ]
    }
   ],
   "source": [
    "print(model.intercept_)\n",
    "print(model.coef_)"
   ]
  },
  {
   "cell_type": "code",
   "execution_count": 15,
   "id": "13846814-bdba-4609-88c2-be7baf8dc755",
   "metadata": {},
   "outputs": [],
   "source": [
    "X_test=X_test.reshape(-1,1)\n",
    "Y_test=Y_test.reshape(-1,1)\n",
    "\n",
    "#from sklearn import preprocessing\n",
    "#X_test = preprocessing.normalize(X_test)\n",
    "#Y_test = preprocessing.normalize(Y_test)\n",
    "\n",
    "Y_pred=model.predict(X_test)"
   ]
  },
  {
   "cell_type": "code",
   "execution_count": 16,
   "id": "9c8d6819-56dd-478f-a747-051cddc781ab",
   "metadata": {},
   "outputs": [
    {
     "name": "stdout",
     "output_type": "stream",
     "text": [
      "568.8578227245671\n"
     ]
    }
   ],
   "source": [
    "from sklearn.metrics import mean_squared_error\n",
    "mse=mean_squared_error(Y_test, Y_pred)\n",
    "print(mse)"
   ]
  }
 ],
 "metadata": {
  "kernelspec": {
   "display_name": "Python 3 (ipykernel)",
   "language": "python",
   "name": "python3"
  },
  "language_info": {
   "codemirror_mode": {
    "name": "ipython",
    "version": 3
   },
   "file_extension": ".py",
   "mimetype": "text/x-python",
   "name": "python",
   "nbconvert_exporter": "python",
   "pygments_lexer": "ipython3",
   "version": "3.8.20"
  }
 },
 "nbformat": 4,
 "nbformat_minor": 5
}
